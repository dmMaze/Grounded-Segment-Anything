{
 "cells": [
  {
   "cell_type": "code",
   "execution_count": 1,
   "metadata": {},
   "outputs": [
    {
     "name": "stderr",
     "output_type": "stream",
     "text": [
      "/home/jlin/miniconda3/envs/mmlabdev/lib/python3.9/site-packages/tqdm/auto.py:22: TqdmWarning: IProgress not found. Please update jupyter and ipywidgets. See https://ipywidgets.readthedocs.io/en/stable/user_install.html\n",
      "  from .autonotebook import tqdm as notebook_tqdm\n"
     ]
    }
   ],
   "source": [
    "import os\n",
    "# os.environ[\"CUDA_HOME\"] = CUDA_HOME\n",
    "from torch.utils.cpp_extension import CUDA_HOME\n",
    "os.environ[\"CUDA_HOME\"] = CUDA_HOME\n",
    "os.environ[\"CUDA_PATH\"] = CUDA_HOME\n",
    "\n"
   ]
  },
  {
   "cell_type": "code",
   "execution_count": null,
   "metadata": {},
   "outputs": [],
   "source": [
    "# need to restart the notebook after installing these\n",
    "\n",
    "%cd Grounded-Segment-Anything \n",
    "!pip install -q -r requirements.txt\n",
    "%cd GroundingDINO\n",
    "!pip install -q .\n",
    "%cd ../segment_anything\n",
    "!pip install -q .\n",
    "%cd .."
   ]
  },
  {
   "cell_type": "code",
   "execution_count": null,
   "metadata": {},
   "outputs": [],
   "source": [
    "!wget https://github.com/IDEA-Research/GroundingDINO/releases/download/v0.1.0-alpha2/groundingdino_swinb_cogcoor.pth\n",
    "!wget https://huggingface.co/ybelkada/segment-anything/resolve/main/checkpoints/sam_vit_h_4b8939.pth"
   ]
  },
  {
   "cell_type": "code",
   "execution_count": 2,
   "metadata": {},
   "outputs": [],
   "source": [
    "import os, sys\n",
    "\n",
    "sys.path.append(os.path.join(os.getcwd(), \"GroundingDINO\"))\n",
    "\n",
    "import argparse\n",
    "import os\n",
    "import copy\n",
    "\n",
    "import numpy as np\n",
    "import torch\n",
    "from PIL import Image, ImageDraw, ImageFont\n",
    "from torchvision.ops import box_convert\n",
    "\n",
    "# Grounding DINO\n",
    "import GroundingDINO.groundingdino.datasets.transforms as T\n",
    "from GroundingDINO.groundingdino.models import build_model\n",
    "from GroundingDINO.groundingdino.util import box_ops\n",
    "from GroundingDINO.groundingdino.util.slconfig import SLConfig\n",
    "from GroundingDINO.groundingdino.util.utils import clean_state_dict, get_phrases_from_posmap\n",
    "from GroundingDINO.groundingdino.util.inference import annotate, load_image, predict\n",
    "\n",
    "# import supervision as sv\n",
    "\n",
    "# segment anything\n",
    "from segment_anything import build_sam, SamPredictor \n",
    "import cv2\n",
    "import numpy as np\n",
    "import matplotlib.pyplot as plt\n",
    "\n",
    "\n",
    "# diffusers\n",
    "import PIL\n",
    "import requests\n",
    "import torch\n",
    "from io import BytesIO\n",
    "from diffusers import StableDiffusionInpaintPipeline\n",
    "\n",
    "\n",
    "from huggingface_hub import hf_hub_download"
   ]
  },
  {
   "cell_type": "code",
   "execution_count": 3,
   "metadata": {},
   "outputs": [
    {
     "name": "stderr",
     "output_type": "stream",
     "text": [
      "/home/jlin/miniconda3/envs/mmlabdev/lib/python3.9/site-packages/torch/functional.py:504: UserWarning: torch.meshgrid: in an upcoming release, it will be required to pass the indexing argument. (Triggered internally at /opt/conda/conda-bld/pytorch_1670525539683/work/aten/src/ATen/native/TensorShape.cpp:3190.)\n",
      "  return _VF.meshgrid(tensors, **kwargs)  # type: ignore[attr-defined]\n"
     ]
    },
    {
     "name": "stdout",
     "output_type": "stream",
     "text": [
      "final text_encoder_type: bert-base-uncased\n"
     ]
    },
    {
     "name": "stderr",
     "output_type": "stream",
     "text": [
      "Some weights of the model checkpoint at bert-base-uncased were not used when initializing BertModel: ['cls.predictions.transform.LayerNorm.bias', 'cls.seq_relationship.bias', 'cls.predictions.bias', 'cls.predictions.transform.dense.weight', 'cls.predictions.transform.LayerNorm.weight', 'cls.seq_relationship.weight', 'cls.predictions.transform.dense.bias']\n",
      "- This IS expected if you are initializing BertModel from the checkpoint of a model trained on another task or with another architecture (e.g. initializing a BertForSequenceClassification model from a BertForPreTraining model).\n",
      "- This IS NOT expected if you are initializing BertModel from the checkpoint of a model that you expect to be exactly identical (initializing a BertForSequenceClassification model from a BertForSequenceClassification model).\n"
     ]
    }
   ],
   "source": [
    "def load_model_hf(repo_id, filename, ckpt_config_filename, device='cpu'):\n",
    "    cache_config_file = hf_hub_download(repo_id=repo_id, filename=ckpt_config_filename)\n",
    "\n",
    "    args = SLConfig.fromfile(cache_config_file) \n",
    "    model = build_model(args)\n",
    "    args.device = device\n",
    "\n",
    "    # cache_file = hf_hub_download(repo_id=repo_id, filename=filename)\n",
    "    checkpoint = torch.load('groundingdino_swinb_cogcoor.pth', map_location='cpu')\n",
    "    log = model.load_state_dict(clean_state_dict(checkpoint['model']), strict=False)\n",
    "    # print(\"Model loaded from {} \\n => {}\".format(cache_file, log))\n",
    "    _ = model.eval()\n",
    "    return model   \n",
    "\n",
    "\n",
    "device = torch.device('cuda' if torch.cuda.is_available() else 'cpu')\n",
    "\n",
    "ckpt_repo_id = \"ShilongLiu/GroundingDINO\"\n",
    "ckpt_filenmae = \"groundingdino_swinb_cogcoor.pth\"\n",
    "ckpt_config_filename = \"GroundingDINO_SwinB.cfg.py\"\n",
    "groundingdino_model = load_model_hf(ckpt_repo_id, ckpt_filenmae, ckpt_config_filename, device=device)\n",
    "\n",
    "\n",
    "sam_checkpoint = 'sam_vit_h_4b8939.pth'\n",
    "sam = build_sam(checkpoint=sam_checkpoint)\n",
    "sam.to(device=device)\n",
    "sam_predictor = SamPredictor(sam)"
   ]
  },
  {
   "cell_type": "code",
   "execution_count": 4,
   "metadata": {},
   "outputs": [],
   "source": [
    "import pycocotools.mask as maskUtils\n",
    "from typing import Dict\n",
    "import os.path as osp\n",
    "import os\n",
    "from pathlib import Path\n",
    "from tqdm import tqdm\n",
    "import json\n",
    "\n",
    "def dict2json(adict: dict, json_path: str):\n",
    "    with open(json_path, \"w\", encoding=\"utf-8\") as f:\n",
    "        f.write(json.dumps(adict, ensure_ascii=False))\n",
    "\n",
    "def json2dict(json_path: str):\n",
    "    with open(json_path, 'r', encoding='utf8') as f:\n",
    "        metadata = json.loads(f.read())\n",
    "    return metadata\n",
    "\n",
    "def mask2rle(mask: np.ndarray, decode_for_json: bool = True) -> Dict:\n",
    "    mask_rle = maskUtils.encode(np.array(\n",
    "                        mask[..., np.newaxis] > 0, order='F',\n",
    "                        dtype='uint8'))[0]\n",
    "    if decode_for_json:\n",
    "        mask_rle['counts'] = mask_rle['counts'].decode()\n",
    "    return mask_rle\n",
    "\n",
    "def show_mask(mask, image, random_color=True):\n",
    "    if isinstance(mask, torch.Tensor):\n",
    "        mask = mask.cpu().numpy()\n",
    "    if random_color:\n",
    "        color = np.concatenate([np.random.random(3), np.array([0.8])], axis=0)\n",
    "    else:\n",
    "        color = np.array([30/255, 144/255, 255/255, 0.6])\n",
    "    h, w = mask.shape[-2:]\n",
    "    mask_image = mask.reshape(h, w, 1) * color.reshape(1, 1, -1)\n",
    "    \n",
    "    annotated_frame_pil = Image.fromarray(image).convert(\"RGBA\")\n",
    "    mask_image_pil = Image.fromarray((mask_image * 255).astype(np.uint8)).convert(\"RGBA\")\n",
    "\n",
    "    return np.array(Image.alpha_composite(annotated_frame_pil, mask_image_pil))\n",
    "\n",
    "IMG_EXT = {'.bmp', '.jpg', '.png', '.jpeg'}\n",
    "def find_all_imgs(img_dir, abs_path=False):\n",
    "    imglist = []\n",
    "    dir_list = os.listdir(img_dir)\n",
    "    for filename in dir_list:\n",
    "        file_suffix = Path(filename).suffix\n",
    "        if file_suffix.lower() not in IMG_EXT:\n",
    "            continue\n",
    "        if abs_path:\n",
    "            imglist.append(osp.join(img_dir, filename))\n",
    "        else:\n",
    "            imglist.append(filename)\n",
    "    return imglist"
   ]
  },
  {
   "cell_type": "code",
   "execution_count": 9,
   "metadata": {},
   "outputs": [],
   "source": [
    "def infer_saveanns(annp, img_dir, savep, box_thr = 0.3, max_preds = 100):\n",
    "\n",
    "    anns = json2dict(annp)\n",
    "\n",
    "    det_annotations = []\n",
    "    obj_id = 0\n",
    "\n",
    "    for kk, img_meta in enumerate(tqdm(anns['images'])):\n",
    "        img_id = img_meta['id']\n",
    "        imgp = osp.join(img_dir, img_meta['file_name'])\n",
    "\n",
    "        image_source, image = load_image(imgp)\n",
    "\n",
    "        boxes, logits, phrases = predict(\n",
    "            model=groundingdino_model, \n",
    "            image=image, \n",
    "            caption=TEXT_PROMPT, \n",
    "            box_threshold=box_thr, \n",
    "            text_threshold=TEXT_TRESHOLD\n",
    "        )\n",
    "        # if kk > 10:\n",
    "        #     break\n",
    "\n",
    "        if boxes.shape[0] == 0:\n",
    "            continue\n",
    "\n",
    "        if len(boxes) > max_preds:\n",
    "            sids = torch.argsort(logits)\n",
    "            boxes = boxes[sids]\n",
    "            logits = logits[sids]\n",
    "            boxes = boxes[:max_preds]\n",
    "            logits = logits[:max_preds]\n",
    "        # print(boxes, logits)\n",
    "        # break\n",
    "        scores = [score.item() for score in logits]\n",
    "\n",
    "\n",
    "        annotated_frame = annotate(image_source=image_source, boxes=boxes, logits=logits, phrases=phrases)\n",
    "        annotated_frame = annotated_frame[...,::-1] # BGR to RGB\n",
    "\n",
    "        sam_predictor.set_image(image_source)\n",
    "        H, W, _ = image_source.shape\n",
    "        boxes_xyxy = box_ops.box_cxcywh_to_xyxy(boxes) * torch.Tensor([W, H, W, H])\n",
    "\n",
    "        transformed_boxes = sam_predictor.transform.apply_boxes_torch(boxes_xyxy, image_source.shape[:2]).to(device)\n",
    "        masks, _, _ = sam_predictor.predict_torch(\n",
    "                    point_coords = None,\n",
    "                    point_labels = None,\n",
    "                    boxes = transformed_boxes,\n",
    "                    multimask_output = False,\n",
    "                )\n",
    "        \n",
    "\n",
    "        for mask, bbox, score in zip(masks, boxes_xyxy, scores):\n",
    "            mask = mask.squeeze().cpu().numpy().astype(np.uint8) \n",
    "            area = int(mask.sum())\n",
    "            mask = mask2rle(mask)\n",
    "            bbox = bbox.squeeze().numpy().astype(np.float32)\n",
    "            bbox[2:] -= bbox[:2]\n",
    "            bbox = bbox.tolist()\n",
    "            \n",
    "            det_annotations.append({'id': obj_id, 'category_id': 0, 'iscrowd': 0,\n",
    "                'segmentation': mask, 'image_id': img_id, 'area': area, 'bbox': bbox, 'score': score\n",
    "            })\n",
    "            obj_id += 1\n",
    "        # image_id += 1\n",
    "\n",
    "\n",
    "    det_meta = {\"info\": {},\"licenses\": [], \"images\": anns['images'], \n",
    "                \"annotations\": det_annotations, \"categories\": CATEGORIES}\n",
    "    dict2json(det_meta, savep)\n",
    "    print(f'rst saved to {savep}')\n",
    "\n",
    "\n",
    "TEXT_PROMPT = \"person\"\n",
    "BOX_TRESHOLD = 0.3\n",
    "TEXT_TRESHOLD = 0.25\n",
    "\n",
    "CATEGORIES = [\n",
    "    {\"id\": 0, \"name\": \"object\", \"isthing\": 1}\n",
    "]"
   ]
  },
  {
   "cell_type": "code",
   "execution_count": 10,
   "metadata": {},
   "outputs": [
    {
     "name": "stderr",
     "output_type": "stream",
     "text": [
      "100%|██████████| 945/945 [10:51<00:00,  1.45it/s]"
     ]
    },
    {
     "name": "stdout",
     "output_type": "stream",
     "text": [
      "rst saved to /home/jlin/code_repo/AnimeInstanceSegmentation/local_benchmark/aniseg_gs_std.json\n"
     ]
    },
    {
     "name": "stderr",
     "output_type": "stream",
     "text": [
      "\n"
     ]
    }
   ],
   "source": [
    "ANISEG_DIR = r'/home/jlin/code_repo/AnimeInstanceSegmentation/workspace/annotated_images/val'\n",
    "ANISEG_ANNS = r'/home/jlin/code_repo/AnimeInstanceSegmentation/workspace/annotated_images/annotations/det_val.json'\n",
    "SAVEP = r'/home/jlin/code_repo/AnimeInstanceSegmentation/local_benchmark/aniseg_gs_std.json'\n",
    "infer_saveanns(ANISEG_ANNS, ANISEG_DIR, SAVEP, 0.05, 100)"
   ]
  },
  {
   "cell_type": "code",
   "execution_count": 11,
   "metadata": {},
   "outputs": [
    {
     "name": "stderr",
     "output_type": "stream",
     "text": [
      "100%|██████████| 7496/7496 [1:33:08<00:00,  1.34it/s]\n"
     ]
    },
    {
     "name": "stdout",
     "output_type": "stream",
     "text": [
      "rst saved to /home/jlin/code_repo/AnimeInstanceSegmentation/local_benchmark/aisval_gs_std.json\n"
     ]
    }
   ],
   "source": [
    "ANIINSSEG_ROOT_DIR = '/mnt/nvme1/dldata/anime_instance_dataset/val'\n",
    "ANIINSSEG_ROOT_EVAL_ANN = '/mnt/nvme1/dldata/anime_instance_dataset/annotations/det_val.json'\n",
    "SAVEP = r'/home/jlin/code_repo/AnimeInstanceSegmentation/local_benchmark/aisval_gs_std.json'\n",
    "infer_saveanns(ANIINSSEG_ROOT_EVAL_ANN, ANIINSSEG_ROOT_DIR, SAVEP, 0.05)"
   ]
  },
  {
   "cell_type": "code",
   "execution_count": 12,
   "metadata": {},
   "outputs": [
    {
     "name": "stderr",
     "output_type": "stream",
     "text": [
      "100%|██████████| 1034/1034 [19:36<00:00,  1.14s/it]\n"
     ]
    },
    {
     "name": "stdout",
     "output_type": "stream",
     "text": [
      "rst saved to /home/jlin/code_repo/AnimeInstanceSegmentation/local_benchmark/manga109val_gs_std.json\n"
     ]
    }
   ],
   "source": [
    "MANGA109_ROOT_DIR = '/mnt/nvme1/dldata/Manga109_released_2020_12_18/images'\n",
    "MANGA109_EVAL_ANN = '/home/jlin/code_repo/AnimeInstanceSegmentation/workspace/manga109coco_val.json'\n",
    "SAVEP = r'/home/jlin/code_repo/AnimeInstanceSegmentation/local_benchmark/manga109val_gs_std.json'\n",
    "infer_saveanns(MANGA109_EVAL_ANN, MANGA109_ROOT_DIR, SAVEP, 0.05)"
   ]
  },
  {
   "cell_type": "code",
   "execution_count": 14,
   "metadata": {},
   "outputs": [
    {
     "name": "stderr",
     "output_type": "stream",
     "text": [
      "100%|██████████| 12/12 [00:08<00:00,  1.38it/s]"
     ]
    },
    {
     "name": "stdout",
     "output_type": "stream",
     "text": [
      "rst saved to /home/jlin/code_repo/AnimeInstanceSegmentation/workspace/compare/gs.json\n"
     ]
    },
    {
     "name": "stderr",
     "output_type": "stream",
     "text": [
      "\n"
     ]
    }
   ],
   "source": [
    "COMPARE_DIR = '/home/jlin/code_repo/AnimeInstanceSegmentation/workspace/compare'\n",
    "\n",
    "COMPARE_ANN = '/home/jlin/code_repo/AnimeInstanceSegmentation/workspace/compare/maskrcnn.json'\n",
    "SAVEP = r'/home/jlin/code_repo/AnimeInstanceSegmentation/workspace/compare/gs.json'\n",
    "infer_saveanns(COMPARE_ANN, COMPARE_DIR, SAVEP, 0.3)"
   ]
  }
 ],
 "metadata": {
  "kernelspec": {
   "display_name": "Python 3",
   "language": "python",
   "name": "python3"
  },
  "language_info": {
   "codemirror_mode": {
    "name": "ipython",
    "version": 3
   },
   "file_extension": ".py",
   "mimetype": "text/x-python",
   "name": "python",
   "nbconvert_exporter": "python",
   "pygments_lexer": "ipython3",
   "version": "3.9.12"
  },
  "orig_nbformat": 4
 },
 "nbformat": 4,
 "nbformat_minor": 2
}
